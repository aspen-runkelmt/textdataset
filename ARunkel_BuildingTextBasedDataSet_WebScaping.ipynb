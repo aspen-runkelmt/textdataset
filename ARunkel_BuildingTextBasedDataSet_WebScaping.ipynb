{
 "cells": [
  {
   "cell_type": "markdown",
   "metadata": {},
   "source": [
    "## Building a Text-Based Data Set by Web Scraping"
   ]
  },
  {
   "cell_type": "markdown",
   "metadata": {},
   "source": [
    "### Imports"
   ]
  },
  {
   "cell_type": "code",
   "execution_count": 1,
   "metadata": {},
   "outputs": [],
   "source": [
    "import sqlite3 #sqlite package\n",
    "import requests #requests package to get the pages\n",
    "\n",
    "from bs4 import BeautifulSoup #beautiful soup to process/parse the pages\n",
    "from bs4.element import Comment\n",
    "\n",
    "import random #to use randomization when we're pulling a fraction of the pages\n",
    " \n",
    "import datetime #to work with data and time"
   ]
  },
  {
   "cell_type": "markdown",
   "metadata": {},
   "source": [
    "### Reads in list of websites from anasoundcloud_websites.txt file"
   ]
  },
  {
   "cell_type": "code",
   "execution_count": 2,
   "metadata": {},
   "outputs": [],
   "source": [
    "#reads in list of A New Angle Soundcloud links as `sites`\n",
    "sites = []\n",
    "with open(\"anasoundcloud_test.txt\",'r') as infile :\n",
    "    for line in infile :\n",
    "        sites.append(line.strip())"
   ]
  },
  {
   "cell_type": "code",
   "execution_count": 3,
   "metadata": {},
   "outputs": [
    {
     "name": "stdout",
     "output_type": "stream",
     "text": [
      "['https://soundcloud.com/anewangle/lara-birkes-sees-a-sustainable-montana']\n"
     ]
    },
    {
     "data": {
      "text/plain": [
       "200"
      ]
     },
     "execution_count": 3,
     "metadata": {},
     "output_type": "execute_result"
    }
   ],
   "source": [
    "#prints all links in `sites`\n",
    "#checks HTTP response status codes -> 200 = good\n",
    "print(sites)\n",
    "r = requests.get(sites[0])\n",
    "r.status_code"
   ]
  },
  {
   "cell_type": "markdown",
   "metadata": {},
   "source": [
    "### Extracts visible text from each page"
   ]
  },
  {
   "cell_type": "code",
   "execution_count": 29,
   "metadata": {},
   "outputs": [],
   "source": [
    "#stores the text in a dictionary that has the url as the key and the value is the text.\n",
    "from bs4.element import Comment\n",
    "\n",
    "def tag_visible(element):\n",
    "    if element.parent.name in ['style', 'script', 'title', 'meta', '[document]']:\n",
    "        return False\n",
    "    if isinstance(element, Comment):\n",
    "        return False\n",
    "    return True"
   ]
  },
  {
   "cell_type": "code",
   "execution_count": 30,
   "metadata": {},
   "outputs": [],
   "source": [
    "anasc_text = dict()\n",
    "\n",
    "for link in sites :\n",
    "    try :\n",
    "        r = requests.get(link)\n",
    "    except :\n",
    "        pass \n",
    "    \n",
    "    if r.status_code == 200 :\n",
    "        soup = BeautifulSoup(r.text, 'html.parser')\n",
    "        texts = soup.findAll(text=True)\n",
    "        visible_texts = filter(tag_visible, texts) \n",
    "        anasc_text[link] = \" \".join(t.strip() for t in visible_texts)"
   ]
  },
  {
   "cell_type": "code",
   "execution_count": 31,
   "metadata": {},
   "outputs": [
    {
     "data": {
      "text/plain": [
       "{'https://soundcloud.com/anewangle/lara-birkes-sees-a-sustainable-montana': \"                                                        SoundCloud           JavaScript is disabled  You need to enable JavaScript to use SoundCloud   Show me how to enable it       Lara Birkes sees a sustainable Montana by A New Angle published on 2019-11-18T15:36:47Z    University of Montana alumna Lara Birkes is a sustainability rock star. She recently returned to Montana after serving in leadership roles with the World Trade Center and Hewlett Packard Enterprise. Her fascinating new startup, Eqogo, is attempting to create a sustainability score for all consumer products. Lara also works with local entrepreneurs on nature based solutions to persistent environmental challenges.   Genre  Business    Download Lara Birkes sees a sustainable Montana   Users who like Lara Birkes sees a sustainable Montana  Users who reposted Lara Birkes sees a sustainable Montana  Playlists containing Lara Birkes sees a sustainable Montana  More tracks like Lara Birkes sees a sustainable Montana  License: cc-by-nc-sa     Your current browser isn't compatible with SoundCloud. Please download one of our supported browsers. Need help?    Chrome | Firefox | Safari | Internet Explorer     Sorry! Something went wrong   Is your network connection unstable or browser outdated?    I need help       Popular searches             \"}"
      ]
     },
     "execution_count": 31,
     "metadata": {},
     "output_type": "execute_result"
    }
   ],
   "source": [
    "anasc_text"
   ]
  },
  {
   "cell_type": "markdown",
   "metadata": {},
   "source": [
    "### Writes all visible text from each page to a local text file"
   ]
  },
  {
   "cell_type": "code",
   "execution_count": null,
   "metadata": {},
   "outputs": [],
   "source": [
    "#fills table with data\n",
    "with open(\"anewangle_soundcloud.txt\",'w') as ofile :\n",
    "    for idx, row in enumerate :\n",
    "        ofile.write(\"\\t\".join([str(element) for element in row]) +\"\\n\")"
   ]
  },
  {
   "cell_type": "code",
   "execution_count": null,
   "metadata": {},
   "outputs": [],
   "source": []
  }
 ],
 "metadata": {
  "kernelspec": {
   "display_name": "Python 3",
   "language": "python",
   "name": "python3"
  },
  "language_info": {
   "codemirror_mode": {
    "name": "ipython",
    "version": 3
   },
   "file_extension": ".py",
   "mimetype": "text/x-python",
   "name": "python",
   "nbconvert_exporter": "python",
   "pygments_lexer": "ipython3",
   "version": "3.7.3"
  }
 },
 "nbformat": 4,
 "nbformat_minor": 2
}

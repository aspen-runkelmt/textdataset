{
 "cells": [
  {
   "cell_type": "markdown",
   "metadata": {},
   "source": [
    "## Building a Text-Based Data Set by Web Scraping\n",
    "This notebook creates a text data set stored in a dictionary that has the url as the key and the value is the text in a .txt file."
   ]
  },
  {
   "cell_type": "markdown",
   "metadata": {},
   "source": [
    "### Imports"
   ]
  },
  {
   "cell_type": "code",
   "execution_count": 1,
   "metadata": {},
   "outputs": [],
   "source": [
    "import requests #requests package to get the pages\n",
    "\n",
    "from bs4 import BeautifulSoup #beautiful soup to process/parse the pages\n",
    "from bs4.element import Comment"
   ]
  },
  {
   "cell_type": "markdown",
   "metadata": {},
   "source": [
    "### Reads in list of websites from anasoundcloud_websites.txt file\n",
    "Tested my code using the \"anasoundcould_test.txt\" file which only contains 1 url before running it on all of the urls. \"anasoundcould_websites.txt\" contains all urls for all episodes through November 26, 2019."
   ]
  },
  {
   "cell_type": "code",
   "execution_count": 4,
   "metadata": {},
   "outputs": [],
   "source": [
    "#reads in list of A New Angle Soundcloud links as `sites`\n",
    "sites = []\n",
    "#with open(\"anasoundcloud_test.txt\",'r') as infile :\n",
    "with open(\"anasoundcloud_websites.txt\",'r') as infile :\n",
    "    for line in infile :\n",
    "        sites.append(line.strip())"
   ]
  },
  {
   "cell_type": "code",
   "execution_count": 5,
   "metadata": {},
   "outputs": [
    {
     "name": "stdout",
     "output_type": "stream",
     "text": [
      "['https://soundcloud.com/anewangle/sea-change-8-nichole-heyer', 'https://soundcloud.com/anewangle/lara-birkes-sees-a-sustainable-montana', 'https://soundcloud.com/anewangle/jim-sciutto-and-the-shadow-war', 'https://soundcloud.com/anewangle/the-innovation-factory-can-we-teach-creativity', 'https://soundcloud.com/anewangle/sea-change-7-micah-larsen-returns', 'https://soundcloud.com/anewangle/matt-gangloff-final', 'https://soundcloud.com/anewangle/matthamon', 'https://soundcloud.com/anewangle/sheila-stearns-likes-hard-jobs-even-in-retirement', 'https://soundcloud.com/anewangle/nora-saks-and-the-richest-hill', 'https://soundcloud.com/anewangle/sea-change-6-jennifer-palmieri', 'https://soundcloud.com/anewangle/rethining-childcare-with-myvillages-erica-mackey-and-elke-govertsen', 'https://soundcloud.com/anewangle/the-nature-conservancys-leigh-greenwood-keeps-forests-healthy', 'https://soundcloud.com/anewangle/bioscience-clusters-early-childhood-education-at-innovateum-live', 'https://soundcloud.com/anewangle/doug-mitchell-glacier-national-park-conservancy', 'https://soundcloud.com/anewangle/sea-change-4-susan-hay-patrick', 'https://soundcloud.com/anewangle/dave-franke-on-philanthropic-investment', 'https://soundcloud.com/anewangle/adam-wolf-on-coming-into-integrity-with-what-you-eat', 'https://soundcloud.com/anewangle/buzzfeeds-anne-helen-petersen-on-millenial-burnout-and-so-much-more', 'https://soundcloud.com/anewangle/joe-andersons-unlikely-journey-to-the-self-defense-industry', 'https://soundcloud.com/anewangle/sea-change-3-brigitta-miranda-freer', 'https://soundcloud.com/anewangle/peter-giannascoli-final', 'https://soundcloud.com/anewangle/eric-becker', 'https://soundcloud.com/anewangle/scott-jenny-jurek-on-going-north-and-all-it-taught-them', 'https://soundcloud.com/anewangle/sea-change-2-christine-littig-morgan-slemberger', 'https://soundcloud.com/anewangle/home-ground-radios-brian-kahn', 'https://soundcloud.com/anewangle/marc-moss-tells-us-something', 'https://soundcloud.com/anewangle/max-baucus-sara-rinfret-sam-panarella-believe-in-service', 'https://soundcloud.com/anewangle/suzanne-miller-daysdunrovin-an-unlikely-story-of-digital-entrepreneurship', 'https://soundcloud.com/anewangle/introducing-sea-change-with-seth-bodnar-chelsea-bodnar-anya-jabour-beth-judy', 'https://soundcloud.com/anewangle/jeremy-smith-knows-alien', 'https://soundcloud.com/anewangle/winona-laduke-sees-the-next-economy', 'https://soundcloud.com/anewangle/bobby-hauck-goes-back-to-the-future-at-um', 'https://soundcloud.com/anewangle/emilie-graslie-on-breaking-paradigms-getting-people-excited-about-science', 'https://soundcloud.com/anewangle/kim-shappee-nicole-miller-jen-euell-on-why-they-created-athena-pack', 'https://soundcloud.com/anewangle/kia_liszak', 'https://soundcloud.com/anewangle/helena-mayor-wilmot-collins-is-a-reason-to-believe', 'https://soundcloud.com/anewangle/mark-synnott-on-alex-honnold-writing-and-the-climbing-life', 'https://soundcloud.com/anewangle/googles-chris-wright-will-try-anything', 'https://soundcloud.com/anewangle/rich-willys-common-sense-approach-to-healthy-running', 'https://soundcloud.com/anewangle/peter-coffee-sees-the-future', 'https://soundcloud.com/anewangle/the-ethics-of-data-driven-persuasion-with-john-chandler-christopher-preston', 'https://soundcloud.com/anewangle/flipping-the-mikefooteon-justin-angle', 'https://soundcloud.com/anewangle/campus-compacts-andrew-seligsohn-andrea-vernon', 'https://soundcloud.com/anewangle/micah-larsen-rogue-persuasion-scientist', 'https://soundcloud.com/anewangle/kevin-keohane-branding-maven-and-backward-musician', 'https://soundcloud.com/anewangle/hank-donovan-and-the-ultimate-rattlesnakesighting', 'https://soundcloud.com/anewangle/biologist-john-mccutcheon-finds-big-ideas-in-tiny-things', 'https://soundcloud.com/anewangle/melissa-stephenson-is-driven', 'https://soundcloud.com/anewangle/espns-tootell-nuanez-have-range', 'https://soundcloud.com/anewangle/cheryl-strayed-on-finding-truth', 'https://soundcloud.com/anewangle/vanessa-grigoriadis-explores-sex-power-consent-on-college-campuses', 'https://soundcloud.com/anewangle/steve-albini-final', 'https://soundcloud.com/anewangle/amymartin', 'https://soundcloud.com/anewangle/maureen-dowd-on-journalism-in-the-age-of-trump', 'https://soundcloud.com/anewangle/butler-welch-tester-gianforte-ward-on-the-value-of-higher-education', 'https://soundcloud.com/anewangle/patagonia-alan-adams-want-you-to-vote', 'https://soundcloud.com/anewangle/professor-pollster-sara-rinfret-puts-students-first', 'https://soundcloud.com/anewangle/larry-summers', 'https://soundcloud.com/anewangle/mario-schulzke-digital-nomad-with-a-house', 'https://soundcloud.com/anewangle/geoff-peddicord', 'https://soundcloud.com/anewangle/cathy-cole-on-whats-possible-at-um', 'https://soundcloud.com/anewangle/fairends-ben-ferencz-says-its-not-about-the-hat', 'https://soundcloud.com/anewangle/blackfoot-communications-ceo-jason-williams-vp-joe-fanguy-know-its-about-more-than-wires', 'https://soundcloud.com/anewangle/front-street-capitals-russ-piazza-invests-in-culture', 'https://soundcloud.com/anewangle/holly-truitt-community-creator-coalition-builder-and-change-maker', 'https://soundcloud.com/anewangle/olympian-sam-schultz-rides-for-all-the-right-reasons', 'https://soundcloud.com/anewangle/john-wicks-knows-drums-coffee-juggling-both-with-family', 'https://soundcloud.com/anewangle/nick-triolo-activist-athlete-and-lifelong-student-of-narrative', 'https://soundcloud.com/anewangle/keila-szpaller-takes-her-turn-in-the-hot-seat', 'https://soundcloud.com/anewangle/mofis-dave-glaser-on-making-people-bankable', 'https://soundcloud.com/anewangle/montana-code-school-a-case-study-in-education-innovation', 'https://soundcloud.com/anewangle/pictionary-creator-rob-angel-on-trusting-the-process', 'https://soundcloud.com/anewangle/bjorn-nabozney-on-building-a-community-with-big-sky-brewing-co', 'https://soundcloud.com/anewangle/erin-switalski-on-the-vital-work-of-womens-voices-for-the-earth', 'https://soundcloud.com/anewangle/the-big-dippers-charlie-beaton-knows-ice-cream-music-and-balance', 'https://soundcloud.com/anewangle/black-coffees-matt-mcquilkin-on-coffee-community-creativity', 'https://soundcloud.com/anewangle/meg-whicher-recreation-evangelist', 'https://soundcloud.com/anewangle/tester-gianforte-ward-on-higher-education-and-the-6-mil-levy', 'https://soundcloud.com/anewangle/eric-sprunk-coo-at-nike-on-leadership-opportunity-and-coming-home', 'https://soundcloud.com/anewangle/pearl-jams-jeff-ament-on-creativity-hustle-and-giving-back', 'https://soundcloud.com/anewangle/lisa-mills-and-elephant-friendly-tea', 'https://soundcloud.com/anewangle/christopher-preston-philosopher-for-the-synthetic-age', 'https://soundcloud.com/anewangle/clark-fork-coalitions-karen-knutsen-what-the-river-needs', 'https://soundcloud.com/anewangle/switchback-records-umt', 'https://soundcloud.com/anewangle/the-dram-shop-origin-story-with-zach-millar', 'https://soundcloud.com/anewangle/joel-benenson-chief-pollster-and-strategist-to-obama-and-clinton', 'https://soundcloud.com/anewangle/r2cs-michelle-cardinal-ceo-philanthropist-activist', 'https://soundcloud.com/anewangle/mike-foote-mountain-athlete-innovator-community-builder', 'https://soundcloud.com/anewangle/bonus-episode-griz-hoops-march-madness', 'https://soundcloud.com/anewangle/paramounts-jeremy-sauter-on-how-movies-are-made', 'https://soundcloud.com/anewangle/michelle-huie-stef-sample-a-case-study-in-coaching-success', 'https://soundcloud.com/anewangle/missoula-mayor-john-engen-thinks-beyond-town-and-gown', 'https://soundcloud.com/anewangle/seth-bodnar-on-leadership-change-at-university-of-montana', 'https://soundcloud.com/anewangle/dont-let-them-shut-you-up-sexual-harassment-in-the-workplace', 'https://soundcloud.com/anewangle/tyler-hamilton-the-road-ahead', 'https://soundcloud.com/anewangle/the-future-of-higher-education-with-bryce-ward-1']\n"
     ]
    }
   ],
   "source": [
    "#prints all links in `sites`\n",
    "print(sites)\n",
    "r = requests.get(sites[0])\n",
    "#checks HTTP response status codes -> 200 = good\n",
    "#r.status_code"
   ]
  },
  {
   "cell_type": "markdown",
   "metadata": {},
   "source": [
    "### Extracts visible text from each page"
   ]
  },
  {
   "cell_type": "code",
   "execution_count": 6,
   "metadata": {},
   "outputs": [],
   "source": [
    "#extract text and stores it in a dictionary that has the url as the key and the value is the text.\n",
    "#from John via stackoverflow\n",
    "def tag_visible(element):\n",
    "    if element.parent.name in ['style', 'script', 'head', 'title', 'meta', '[document]', 'div']:\n",
    "        return False\n",
    "    if isinstance(element, Comment):\n",
    "        return False\n",
    "    return True"
   ]
  },
  {
   "cell_type": "code",
   "execution_count": 7,
   "metadata": {},
   "outputs": [],
   "source": [
    "anasc_text = dict()\n",
    "\n",
    "for link in sites :\n",
    "    try :\n",
    "        r = requests.get(link)\n",
    "    except :\n",
    "        pass \n",
    "    \n",
    "    if r.status_code == 200 :\n",
    "        soup = BeautifulSoup(r.text, 'html.parser')\n",
    "        texts = soup.findAll(text=True)\n",
    "        visible_texts = filter(tag_visible, texts) \n",
    "        anasc_text[link] = \" \".join(t.strip() for t in visible_texts)"
   ]
  },
  {
   "cell_type": "code",
   "execution_count": 8,
   "metadata": {},
   "outputs": [],
   "source": [
    "#anasc_text"
   ]
  },
  {
   "cell_type": "markdown",
   "metadata": {},
   "source": [
    "The extracted text includes some unwanted text at the beginning and end of the text pulled from each link. Things like, \"JavaScript is disabled\" and related error messages along with \"Download... Users who like... \" etc.\n",
    "\n",
    "I messed around trying to exclude it programatically and was unsucessful. Things I tried to incorporate to EXCLUDE from my text data set are:\n",
    "* `[<p class=\"errorTitle\">JavaScript is disabled</p>` with `soup('p', {'class':'errorTitle'})`\n",
    "\n",
    "SOOO... I ended up deleting it manually in a text editor... and saving it as \"anasoundcloud_dataset_clean.txt\".\n",
    "\n",
    "I also struggled to figure out how to include the number of listens. It's place in the html looks like:\n",
    "* `<li title=\"441 plays\" class=\"sc-ministats-item\">`\n",
    "\n",
    "So this bit of information is missing from my dataset."
   ]
  },
  {
   "cell_type": "markdown",
   "metadata": {},
   "source": [
    "### Writes all visible text from each page to a local text file"
   ]
  },
  {
   "cell_type": "code",
   "execution_count": 9,
   "metadata": {},
   "outputs": [],
   "source": [
    "#fills text file with data\n",
    "with open(\"anasoundcloud_dataset.txt\",'w') as ofile :\n",
    "    ofile.write(str(anasc_text))"
   ]
  },
  {
   "cell_type": "markdown",
   "metadata": {},
   "source": [
    "### END\n",
    "The following includes code trying to test for html tags for inclusion/exclusion."
   ]
  },
  {
   "cell_type": "code",
   "execution_count": null,
   "metadata": {},
   "outputs": [],
   "source": []
  },
  {
   "cell_type": "code",
   "execution_count": null,
   "metadata": {},
   "outputs": [],
   "source": [
    "print(soup.find_all('li'))"
   ]
  },
  {
   "cell_type": "code",
   "execution_count": null,
   "metadata": {},
   "outputs": [],
   "source": [
    "print(soup.find_all('p'))"
   ]
  },
  {
   "cell_type": "code",
   "execution_count": null,
   "metadata": {},
   "outputs": [],
   "source": [
    "print(soup.find_all('a'))"
   ]
  },
  {
   "cell_type": "code",
   "execution_count": null,
   "metadata": {},
   "outputs": [],
   "source": [
    "print(soup.find_all(\"span\", {\"class\": \"sc-visuallyhidden\"}))"
   ]
  },
  {
   "cell_type": "code",
   "execution_count": null,
   "metadata": {},
   "outputs": [],
   "source": [
    "<span class=\"sc-visuallyhidden\">363 plays</span>\n",
    "<span class=\"sc-ministats sc-ministats-medium sc-ministats-plays\">"
   ]
  }
 ],
 "metadata": {
  "kernelspec": {
   "display_name": "Python 3",
   "language": "python",
   "name": "python3"
  },
  "language_info": {
   "codemirror_mode": {
    "name": "ipython",
    "version": 3
   },
   "file_extension": ".py",
   "mimetype": "text/x-python",
   "name": "python",
   "nbconvert_exporter": "python",
   "pygments_lexer": "ipython3",
   "version": "3.7.3"
  }
 },
 "nbformat": 4,
 "nbformat_minor": 2
}
